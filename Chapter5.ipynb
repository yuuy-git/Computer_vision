{
 "cells": [
  {
   "cell_type": "markdown",
   "metadata": {},
   "source": [
    "### 領域に基づく濃淡変化(空間フィルタリング)\n",
    "Chapter4では入力のある１画素の値を用いて、出力画像の対応する１画素の値が求められるようなものであった。\n",
    "それに対し、ここでは、出力画像のある１画素の値を求めるために、入力画像のある領域内の画素値を用いる濃淡変換の処理について解説する。\n",
    "\n",
    "#### 空間フィルタリング\n",
    "入力画像の対応する画素だけではなく、その周囲も含めて画素地を計算する。\n",
    "ここで用いられるフィルタを空間フィルタといい、線形フィルタ・非線形フィルタに大別される。\n",
    "\n",
    "#### 平滑化\n",
    "ピントが合っていないボケた画像の濃淡変化はボケていない画像に比べてなめらかである。(エッジがはっきりしていない。)\n",
    "画像処理によってこのような滑らかな濃淡変化を画像に与える処理を平滑化(smoothing)と呼ぶ\n",
    "平滑化は、画像に含まれるノイズなどの不要な濃淡変化を軽減するためにも用いられる\n",
    "* 平均化(averaging)\n",
    "* 重み付き平均化(weighted averaging)\n",
    "* 特定方向の平滑化\n",
    "一つは実装したい。\n",
    "\n",
    "#### エッジ抽出\n",
    "画像中で明るさが急に変化するエッジ部分を取り出すことをエッジ抽出という。\n",
    "画像から特徴や図形を検知したりするための前処理としても利用される。\n",
    "* 微分フィルタ\n",
    "* プリューウィットフィルタ(prewitt filter)\n",
    "* ソーベルフィルタ(sobel filter)\n",
    "* ２時微分フィルタ(second derivative filter)・ラプラシアンフィルタ(laplacian filter)\n",
    "\n",
    "#### 鮮鋭化\n",
    "元の画像の濃淡を残したままエッジを強調することを鮮鋭化という。\n",
    "\n",
    "#### エッジを保存した平滑化\n",
    "平滑化はノイズなどの不要な濃淡変動を軽減できるが、もともとのエッジも滑らかにしてしまう。\n",
    "そこで、画像のエッジは保ちつつ、ノイズによる細かな変動を平滑化する方法が提案されている。\n",
    "* 局所領域の選択と平均化フィルタ\n",
    "* k最近傍平均化フィルタ(k-nearest neighbor averaging filete)\n",
    "* バイラテルフィルタ(bilateral filter)\n",
    "* ノンローカルミーンフィルタ(non-local mean filter)\n",
    "* メディアンフィルタ(median filter)"
   ]
  },
  {
   "cell_type": "code",
   "execution_count": null,
   "metadata": {
    "collapsed": true
   },
   "outputs": [],
   "source": []
  }
 ],
 "metadata": {
  "kernelspec": {
   "display_name": "Python 3",
   "language": "python",
   "name": "python3"
  },
  "language_info": {
   "codemirror_mode": {
    "name": "ipython",
    "version": 3
   },
   "file_extension": ".py",
   "mimetype": "text/x-python",
   "name": "python",
   "nbconvert_exporter": "python",
   "pygments_lexer": "ipython3",
   "version": "3.6.0"
  }
 },
 "nbformat": 4,
 "nbformat_minor": 2
}
