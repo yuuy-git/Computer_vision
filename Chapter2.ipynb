{
 "cells": [
  {
   "cell_type": "markdown",
   "metadata": {},
   "source": [
    "### カメラ画像ってなんだろう\n",
    "\n",
    "#### カメラで撮影するって結局何をやっているの？  \n",
    "3D→2D\n",
    "\n",
    "#### どんな変換の仕方があるの？\n",
    "* ピンホールカメラモデル(pin-hole camera model)\n",
    "* 投資投影モデル(persepective projection model)\n",
    "* レンズモデル\n",
    " - 薄肉レンズ(thin lens)\n",
    " * 厚肉レンズ(thick lens)\n",
    "\n",
    "#### レンズモデルによる画像への影響  \n",
    "* 歪曲収差(distortion)  \n",
    "　レンズによる画像の歪み(虫眼鏡でみたらすごく歪む、あれ)  \n",
    "　→歪みパラメータを用いてモデル化できる  \n",
    "　→OpenCVなどでパラメータを求めて、補正ができる  \n",
    "(EEPでは実際に3Dで見える区画を画像に正確に反映する必要があるため利用している)  \n",
    "\n",
    "* 周辺光量の低下(vignetting)  \n",
    "　画像の中心に対して、画像の周辺部の明るさが暗くなってしまう現象  \n",
    "　レンズの口径食(optical vignetting)とコサイン４乗則(cosine fourth law)が原因"
   ]
  },
  {
   "cell_type": "code",
   "execution_count": null,
   "metadata": {
    "collapsed": true
   },
   "outputs": [],
   "source": []
  },
  {
   "cell_type": "code",
   "execution_count": null,
   "metadata": {
    "collapsed": true
   },
   "outputs": [],
   "source": []
  }
 ],
 "metadata": {
  "kernelspec": {
   "display_name": "Python 3",
   "language": "python",
   "name": "python3"
  },
  "language_info": {
   "codemirror_mode": {
    "name": "ipython",
    "version": 3
   },
   "file_extension": ".py",
   "mimetype": "text/x-python",
   "name": "python",
   "nbconvert_exporter": "python",
   "pygments_lexer": "ipython3",
   "version": "3.6.3"
  }
 },
 "nbformat": 4,
 "nbformat_minor": 2
}
