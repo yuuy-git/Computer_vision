{
 "cells": [
  {
   "cell_type": "markdown",
   "metadata": {},
   "source": [
    "### 画像の復元と修正\n",
    "#### ぼけ・ぶれ画像の復元\n",
    "##### 画像の劣化モデル\n",
    "ぼけやぶれで劣化した画像は、原画像に空間フィルタリングを施した画像と考えることができる\n",
    "よって、そのフィルタを特定することで、ぼけ・ぶれを修正することができる。"
   ]
  }
 ],
 "metadata": {
  "kernelspec": {
   "display_name": "Python 3",
   "language": "python",
   "name": "python3"
  },
  "language_info": {
   "codemirror_mode": {
    "name": "ipython",
    "version": 3
   },
   "file_extension": ".py",
   "mimetype": "text/x-python",
   "name": "python",
   "nbconvert_exporter": "python",
   "pygments_lexer": "ipython3",
   "version": "3.6.3"
  }
 },
 "nbformat": 4,
 "nbformat_minor": 2
}
