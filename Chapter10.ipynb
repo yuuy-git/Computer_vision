{
 "cells": [
  {
   "cell_type": "markdown",
   "metadata": {},
   "source": [
    "#### 領域処理\n",
    "隣接する画素の集合である領域の特徴を数値化したものを領域特徴量と呼ぶ\n",
    "領域特徴量として代表的なのは領域の画素地の統計的特徴量、周波数特徴量などである。\n",
    "統計的特徴量については解説済み。\n",
    "周波数特徴量について考えてみる。\n",
    "が使わなそうなので割愛"
   ]
  },
  {
   "cell_type": "code",
   "execution_count": null,
   "metadata": {
    "collapsed": true
   },
   "outputs": [],
   "source": []
  }
 ],
 "metadata": {
  "kernelspec": {
   "display_name": "Python 3",
   "language": "python",
   "name": "python3"
  },
  "language_info": {
   "codemirror_mode": {
    "name": "ipython",
    "version": 3
   },
   "file_extension": ".py",
   "mimetype": "text/x-python",
   "name": "python",
   "nbconvert_exporter": "python",
   "pygments_lexer": "ipython3",
   "version": "3.6.3"
  }
 },
 "nbformat": 4,
 "nbformat_minor": 2
}
